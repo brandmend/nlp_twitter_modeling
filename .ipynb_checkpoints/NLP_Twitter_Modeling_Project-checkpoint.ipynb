{
 "cells": [
  {
   "cell_type": "markdown",
   "metadata": {},
   "source": [
    "<img src=\"./Apple-Twitter-logo.jpeg\" style=\"width:750px;\">"
   ]
  },
  {
   "cell_type": "markdown",
   "metadata": {},
   "source": [
    "# Twitter NLP Modeling: Identifying Consumer Sentiment Towards Apple \n",
    "\t\n",
    "\n",
    "__________________________________________________________________________________________________________________ \n",
    "\n",
    "**Authors:** [Brandon Menendez](https://www.linkedin.com/in/brandon-menendez/) & [Nazar Mohl](https://www.linkedin.com/in/nazar-mohl/)"
   ]
  },
  {
   "cell_type": "markdown",
   "metadata": {},
   "source": [
    "## Overview\n",
    "__________________________________________________________________________________________________________________\n",
    "This project analyzes data gathered from [Twitter via CrowdFlower](https://data.world/crowdflower/brands-and-product-emotions). The dataset contains tweets from the 2011 South by Southwest(SXSW) festival, and captures tweets about Apple, Google, and/or their products. We aim to help Apple's product team get a better sense of how consumers are reacting to their brand and products, so they can better identify groups for targeted ad campaigns on Twitter. To do so, we apply multiple machine learning models to help classify the sentiment of each tweet as either Neutral, Postive, or Negative. For the purposes of this project, we are only trying to distinguish the Neutral tweets from the Positive or Negative tweets (more info below).\n",
    "\n",
    "Overall, we were able to produce a Multinmial Naive Bayes model that had 63% precision and 69% recall in predicting tweet sentiment."
   ]
  },
  {
   "cell_type": "markdown",
   "metadata": {},
   "source": [
    "## Business Understanding \n",
    "__________________________________________________________________________________________________________________\n",
    "\n",
    "**Stakeholder:** Apple Social Media Advertising Team \n",
    "\n",
    "\n",
    "**Business Problem:** Develop a model that analyzes the sentiment of tweets and identifies appropriate users for targeted ads.  \n",
    "\n",
    "Our preliminary understanding of the data (which we will expound on below) was that tweets were evaluated by contributors and assigned to categories of 'positive', 'negative' and 'neutral'. In the required directive to advise Apple on how to optimally increase sales, We assert that Apple's marketing budget does not need primarily to be focused on those users who already have a positive image of Apple. They have already committed their dollars to Apple and one can presume that they continue to be willing to spend on Apple products and services. Those with negative dispositions may, perhaps, be persuaded to adjust their thinking but we expect that this will require more effort and expense. Users who have expressed a neutral view or no view at all are more likely to be persuaded to spend on Apple.\n",
    "\n",
    "Therefore, we have chosen a strategy of segregating neutral users from those with decided opinions whether positive or negative. The \"neutral\" users are the \"low hanging fruit\" that Apple should target. Apple is more likely to convert these users at lower cost than to pursue the decidedly negative users."
   ]
  },
  {
   "cell_type": "markdown",
   "metadata": {},
   "source": [
    "## Data Understanding\n",
    "__________________________________________________________________________________________________________________\n",
    "\n",
    "The dataset used for this project was scraped by Crowdflower on August 30, 2013 and comes from data.world. The original dataset contained 9,093 tweets pertaining to both Apple and Google's presentations at the 2011 SXSW conference. After removing null tweeets and restricting the dataframe to only tweets that reference Apple, we are left with around 5.2K tweets ahead of modeling."
   ]
  },
  {
   "cell_type": "code",
   "execution_count": 1,
   "metadata": {},
   "outputs": [],
   "source": [
    "# Imports \n",
    "\n",
    "from collections import defaultdict\n",
    "import numpy as np\n",
    "import pandas as pd\n",
    "import matplotlib.pyplot as plt\n",
    "\n",
    "\n",
    "from sklearn.model_selection import train_test_split\n",
    "\n",
    "import nltk\n",
    "from nltk.tokenize import regexp_tokenize, word_tokenize, RegexpTokenizer\n",
    "from nltk.corpus import stopwords, wordnet\n",
    "from nltk import pos_tag\n",
    "from nltk.stem import WordNetLemmatizer\n",
    "from nltk.probability import FreqDist\n",
    "\n",
    "from sklearn.preprocessing import OneHotEncoder\n",
    "from sklearn.feature_extraction.text import TfidfVectorizer, CountVectorizer\n",
    "from sklearn.tree import DecisionTreeClassifier\n",
    "from sklearn.naive_bayes import MultinomialNB\n",
    "from sklearn.compose import ColumnTransformer\n",
    "from sklearn.model_selection import GridSearchCV\n",
    "\n",
    "import re\n",
    "\n",
    "from imblearn.pipeline import Pipeline\n",
    "from sklearn.model_selection import  cross_val_score\n",
    "from sklearn.metrics import confusion_matrix, plot_confusion_matrix, precision_score, recall_score,\\\n",
    "accuracy_score, f1_score, log_loss\n",
    "\n",
    "\n",
    "from wordcloud import WordCloud"
   ]
  },
  {
   "cell_type": "code",
   "execution_count": 2,
   "metadata": {
    "scrolled": false
   },
   "outputs": [
    {
     "data": {
      "text/html": [
       "<div>\n",
       "<style scoped>\n",
       "    .dataframe tbody tr th:only-of-type {\n",
       "        vertical-align: middle;\n",
       "    }\n",
       "\n",
       "    .dataframe tbody tr th {\n",
       "        vertical-align: top;\n",
       "    }\n",
       "\n",
       "    .dataframe thead th {\n",
       "        text-align: right;\n",
       "    }\n",
       "</style>\n",
       "<table border=\"1\" class=\"dataframe\">\n",
       "  <thead>\n",
       "    <tr style=\"text-align: right;\">\n",
       "      <th></th>\n",
       "      <th>tweet_text</th>\n",
       "      <th>emotion_in_tweet_is_directed_at</th>\n",
       "      <th>is_there_an_emotion_directed_at_a_brand_or_product</th>\n",
       "    </tr>\n",
       "  </thead>\n",
       "  <tbody>\n",
       "    <tr>\n",
       "      <th>0</th>\n",
       "      <td>.@wesley83 I have a 3G iPhone. After 3 hrs twe...</td>\n",
       "      <td>iPhone</td>\n",
       "      <td>Negative emotion</td>\n",
       "    </tr>\n",
       "    <tr>\n",
       "      <th>1</th>\n",
       "      <td>@jessedee Know about @fludapp ? Awesome iPad/i...</td>\n",
       "      <td>iPad or iPhone App</td>\n",
       "      <td>Positive emotion</td>\n",
       "    </tr>\n",
       "    <tr>\n",
       "      <th>2</th>\n",
       "      <td>@swonderlin Can not wait for #iPad 2 also. The...</td>\n",
       "      <td>iPad</td>\n",
       "      <td>Positive emotion</td>\n",
       "    </tr>\n",
       "    <tr>\n",
       "      <th>3</th>\n",
       "      <td>@sxsw I hope this year's festival isn't as cra...</td>\n",
       "      <td>iPad or iPhone App</td>\n",
       "      <td>Negative emotion</td>\n",
       "    </tr>\n",
       "    <tr>\n",
       "      <th>4</th>\n",
       "      <td>@sxtxstate great stuff on Fri #SXSW: Marissa M...</td>\n",
       "      <td>Google</td>\n",
       "      <td>Positive emotion</td>\n",
       "    </tr>\n",
       "    <tr>\n",
       "      <th>5</th>\n",
       "      <td>@teachntech00 New iPad Apps For #SpeechTherapy...</td>\n",
       "      <td>NaN</td>\n",
       "      <td>No emotion toward brand or product</td>\n",
       "    </tr>\n",
       "    <tr>\n",
       "      <th>6</th>\n",
       "      <td>NaN</td>\n",
       "      <td>NaN</td>\n",
       "      <td>No emotion toward brand or product</td>\n",
       "    </tr>\n",
       "    <tr>\n",
       "      <th>7</th>\n",
       "      <td>#SXSW is just starting, #CTIA is around the co...</td>\n",
       "      <td>Android</td>\n",
       "      <td>Positive emotion</td>\n",
       "    </tr>\n",
       "    <tr>\n",
       "      <th>8</th>\n",
       "      <td>Beautifully smart and simple idea RT @madebyma...</td>\n",
       "      <td>iPad or iPhone App</td>\n",
       "      <td>Positive emotion</td>\n",
       "    </tr>\n",
       "    <tr>\n",
       "      <th>9</th>\n",
       "      <td>Counting down the days to #sxsw plus strong Ca...</td>\n",
       "      <td>Apple</td>\n",
       "      <td>Positive emotion</td>\n",
       "    </tr>\n",
       "  </tbody>\n",
       "</table>\n",
       "</div>"
      ],
      "text/plain": [
       "                                          tweet_text  \\\n",
       "0  .@wesley83 I have a 3G iPhone. After 3 hrs twe...   \n",
       "1  @jessedee Know about @fludapp ? Awesome iPad/i...   \n",
       "2  @swonderlin Can not wait for #iPad 2 also. The...   \n",
       "3  @sxsw I hope this year's festival isn't as cra...   \n",
       "4  @sxtxstate great stuff on Fri #SXSW: Marissa M...   \n",
       "5  @teachntech00 New iPad Apps For #SpeechTherapy...   \n",
       "6                                                NaN   \n",
       "7  #SXSW is just starting, #CTIA is around the co...   \n",
       "8  Beautifully smart and simple idea RT @madebyma...   \n",
       "9  Counting down the days to #sxsw plus strong Ca...   \n",
       "\n",
       "  emotion_in_tweet_is_directed_at  \\\n",
       "0                          iPhone   \n",
       "1              iPad or iPhone App   \n",
       "2                            iPad   \n",
       "3              iPad or iPhone App   \n",
       "4                          Google   \n",
       "5                             NaN   \n",
       "6                             NaN   \n",
       "7                         Android   \n",
       "8              iPad or iPhone App   \n",
       "9                           Apple   \n",
       "\n",
       "  is_there_an_emotion_directed_at_a_brand_or_product  \n",
       "0                                   Negative emotion  \n",
       "1                                   Positive emotion  \n",
       "2                                   Positive emotion  \n",
       "3                                   Negative emotion  \n",
       "4                                   Positive emotion  \n",
       "5                 No emotion toward brand or product  \n",
       "6                 No emotion toward brand or product  \n",
       "7                                   Positive emotion  \n",
       "8                                   Positive emotion  \n",
       "9                                   Positive emotion  "
      ]
     },
     "execution_count": 2,
     "metadata": {},
     "output_type": "execute_result"
    }
   ],
   "source": [
    "# Read in tweet data as df\n",
    "\n",
    "df = pd.read_csv('./data/twitter_data.csv',encoding='unicode_escape')\n",
    "\n",
    "# Previewing df \n",
    "\n",
    "df.head(10)"
   ]
  },
  {
   "cell_type": "code",
   "execution_count": 3,
   "metadata": {},
   "outputs": [
    {
     "name": "stdout",
     "output_type": "stream",
     "text": [
      "<class 'pandas.core.frame.DataFrame'>\n",
      "RangeIndex: 9093 entries, 0 to 9092\n",
      "Data columns (total 3 columns):\n",
      " #   Column                                              Non-Null Count  Dtype \n",
      "---  ------                                              --------------  ----- \n",
      " 0   tweet_text                                          9092 non-null   object\n",
      " 1   emotion_in_tweet_is_directed_at                     3291 non-null   object\n",
      " 2   is_there_an_emotion_directed_at_a_brand_or_product  9093 non-null   object\n",
      "dtypes: object(3)\n",
      "memory usage: 213.2+ KB\n"
     ]
    }
   ],
   "source": [
    "# Exploring df \n",
    "\n",
    "df.info()"
   ]
  },
  {
   "cell_type": "markdown",
   "metadata": {},
   "source": [
    "**Observation**:\n",
    "- There are a significant amount of blanks in the  <code> emotion_in_tweet_is_directed_at </code> column. We will need to manually input  who the tweet is directed at later in the notebook\n",
    "- There is only one null value for <code> tweet_text </code> , which we will just drop "
   ]
  },
  {
   "cell_type": "code",
   "execution_count": 4,
   "metadata": {},
   "outputs": [],
   "source": [
    "# Dropping single null tweet_text value \n",
    "\n",
    "df.dropna(subset=['tweet_text'],inplace=True)"
   ]
  },
  {
   "cell_type": "code",
   "execution_count": 5,
   "metadata": {},
   "outputs": [
    {
     "data": {
      "text/plain": [
       "iPad                               946\n",
       "Apple                              661\n",
       "iPad or iPhone App                 470\n",
       "Google                             430\n",
       "iPhone                             297\n",
       "Other Google product or service    293\n",
       "Android App                         81\n",
       "Android                             78\n",
       "Other Apple product or service      35\n",
       "Name: emotion_in_tweet_is_directed_at, dtype: int64"
      ]
     },
     "execution_count": 5,
     "metadata": {},
     "output_type": "execute_result"
    }
   ],
   "source": [
    "# Checking value counts \n",
    "\n",
    "df['emotion_in_tweet_is_directed_at'].value_counts()"
   ]
  },
  {
   "cell_type": "code",
   "execution_count": 6,
   "metadata": {
    "scrolled": false
   },
   "outputs": [
    {
     "data": {
      "text/plain": [
       "No emotion toward brand or product    5388\n",
       "Positive emotion                      2978\n",
       "Negative emotion                       570\n",
       "I can't tell                           156\n",
       "Name: is_there_an_emotion_directed_at_a_brand_or_product, dtype: int64"
      ]
     },
     "execution_count": 6,
     "metadata": {},
     "output_type": "execute_result"
    }
   ],
   "source": [
    "# Checking target value counts \n",
    "\n",
    "df['is_there_an_emotion_directed_at_a_brand_or_product'].value_counts()"
   ]
  },
  {
   "cell_type": "code",
   "execution_count": 7,
   "metadata": {},
   "outputs": [],
   "source": [
    "# For those rows where \"emotion_in_tweet_is_directed_at\" column is null, assign new 'Apple' or 'Google' columns \n",
    "# a value based on certain keywords\n",
    "df.loc[(df['emotion_in_tweet_is_directed_at'].isna) and \\\n",
    "       (df['tweet_text'].str.contains('Apple', case=False)), 'Apple'] = 1\n",
    "df.loc[(df['emotion_in_tweet_is_directed_at'].isna) and \\\n",
    "       (df['tweet_text'].str.contains('iPad', case=False)), 'Apple'] = 1\n",
    "df.loc[(df['emotion_in_tweet_is_directed_at'].isna) and \\\n",
    "       (df['tweet_text'].str.contains('iPhone', case=False)), 'Apple'] = 1\n",
    "df.loc[(df['emotion_in_tweet_is_directed_at'].isna) and \\\n",
    "       (df['tweet_text'].str.contains('Google', case=False)), 'Google'] = 1\n",
    "df.loc[(df['emotion_in_tweet_is_directed_at'].isna) and \\\n",
    "       (df['tweet_text'].str.contains('Android', case=False)), 'Google'] = 1\n",
    "\n",
    "# Only keep rows where 'Apple' column != 'Google' column\n",
    "df = df[(df['Apple'] != df['Google'])]\n",
    "\n",
    "# Fill in values for 'brand' column\n",
    "df.loc[(df['Apple'] == 1), ['brand']] = 'Apple'\n",
    "df.loc[(df['Google'] == 1), ['brand']] = 'Google'\n",
    "\n",
    "# Rows with \"brand' containing null do not appear to be useful.\n",
    "# Drop these 755 rows with 'brand' containing null.\n",
    "df.dropna(axis=0, subset = ['brand'], inplace=True)\n"
   ]
  },
  {
   "cell_type": "markdown",
   "metadata": {},
   "source": [
    "**Observation:**\n",
    "- During our data exploration, we noticed a significant number of tweets that had no values for <code> emotion_in_tweet_is_directed_at </code>. We attempted to combat this with the code above, which identifies if a tweet is referencing Apple, Google, or both. However, a downside to this approach is that the tweet may be labeled as 'Positive Emotion', but doesn't necesarily mean that the positive emotion is about the brand we identified with the code above"
   ]
  },
  {
   "cell_type": "code",
   "execution_count": 8,
   "metadata": {},
   "outputs": [
    {
     "data": {
      "text/plain": [
       "Apple     5275\n",
       "Google    2781\n",
       "Name: brand, dtype: int64"
      ]
     },
     "execution_count": 8,
     "metadata": {},
     "output_type": "execute_result"
    }
   ],
   "source": [
    "# Adding brand column identified 5.3K  tweets mentioning Apple\n",
    "\n",
    "df['brand'].value_counts()"
   ]
  },
  {
   "cell_type": "code",
   "execution_count": 9,
   "metadata": {},
   "outputs": [
    {
     "data": {
      "text/plain": [
       "No emotion toward brand or product    2710\n",
       "Positive emotion                      2061\n",
       "Negative emotion                       411\n",
       "I can't tell                            93\n",
       "Name: is_there_an_emotion_directed_at_a_brand_or_product, dtype: int64"
      ]
     },
     "execution_count": 9,
     "metadata": {},
     "output_type": "execute_result"
    }
   ],
   "source": [
    "# Understanding target balance for Apple-specific tweets & reducing dataset to apple-specific\n",
    "\n",
    "df  = df[df['brand'] == 'Apple']\n",
    "\n",
    "df['is_there_an_emotion_directed_at_a_brand_or_product'].value_counts()"
   ]
  },
  {
   "cell_type": "code",
   "execution_count": 10,
   "metadata": {
    "scrolled": true
   },
   "outputs": [
    {
     "data": {
      "text/plain": [
       "1968"
      ]
     },
     "execution_count": 10,
     "metadata": {},
     "output_type": "execute_result"
    }
   ],
   "source": [
    "# Checking for how many retweets exist in the df \n",
    "\n",
    "retweets =  df.loc[df['tweet_text'].str.contains(\"RT\", case=False)]\n",
    "\n",
    "len(retweets)"
   ]
  },
  {
   "cell_type": "markdown",
   "metadata": {},
   "source": [
    "**Observation:**\n",
    "- There are a significant amount of retweets in the data set, roughly 1/3rd of all tweets. While leaving in these tweets might overrepresent the sentiment of certain words or tweets, we believe taking the sentiment of these tweets still provides useful information. "
   ]
  },
  {
   "cell_type": "code",
   "execution_count": 11,
   "metadata": {},
   "outputs": [],
   "source": [
    "# Resetting index of new Apple df\n",
    "\n",
    "df.reset_index(inplace=True)"
   ]
  },
  {
   "cell_type": "code",
   "execution_count": 12,
   "metadata": {},
   "outputs": [
    {
     "data": {
      "text/plain": [
       "\"@jessedee Know about @fludapp ? Awesome iPad/iPhone app that you'll likely appreciate for its design. Also, they're giving free Ts at #SXSW\""
      ]
     },
     "execution_count": 12,
     "metadata": {},
     "output_type": "execute_result"
    }
   ],
   "source": [
    "# Spot-checking the syntax of different tweets\n",
    "df['tweet_text'][1]"
   ]
  },
  {
   "cell_type": "code",
   "execution_count": 13,
   "metadata": {
    "scrolled": true
   },
   "outputs": [
    {
     "data": {
      "text/plain": [
       "'For I-Pad ?RT @mention New #UberSocial for #iPhone now in the App Store includes UberGuide to #SXSW sponsored by ... {link}'"
      ]
     },
     "execution_count": 13,
     "metadata": {},
     "output_type": "execute_result"
    }
   ],
   "source": [
    "df['tweet_text'][27]"
   ]
  },
  {
   "cell_type": "code",
   "execution_count": 14,
   "metadata": {},
   "outputs": [
    {
     "data": {
      "text/html": [
       "<div>\n",
       "<style scoped>\n",
       "    .dataframe tbody tr th:only-of-type {\n",
       "        vertical-align: middle;\n",
       "    }\n",
       "\n",
       "    .dataframe tbody tr th {\n",
       "        vertical-align: top;\n",
       "    }\n",
       "\n",
       "    .dataframe thead th {\n",
       "        text-align: right;\n",
       "    }\n",
       "</style>\n",
       "<table border=\"1\" class=\"dataframe\">\n",
       "  <thead>\n",
       "    <tr style=\"text-align: right;\">\n",
       "      <th></th>\n",
       "      <th>0</th>\n",
       "    </tr>\n",
       "  </thead>\n",
       "  <tbody>\n",
       "    <tr>\n",
       "      <th>@mention</th>\n",
       "      <td>3547</td>\n",
       "    </tr>\n",
       "    <tr>\n",
       "      <th>the</th>\n",
       "      <td>2632</td>\n",
       "    </tr>\n",
       "    <tr>\n",
       "      <th>#SXSW</th>\n",
       "      <td>2256</td>\n",
       "    </tr>\n",
       "    <tr>\n",
       "      <th>{link}</th>\n",
       "      <td>2185</td>\n",
       "    </tr>\n",
       "    <tr>\n",
       "      <th>#sxsw</th>\n",
       "      <td>2154</td>\n",
       "    </tr>\n",
       "    <tr>\n",
       "      <th>to</th>\n",
       "      <td>2030</td>\n",
       "    </tr>\n",
       "    <tr>\n",
       "      <th>at</th>\n",
       "      <td>1722</td>\n",
       "    </tr>\n",
       "    <tr>\n",
       "      <th>for</th>\n",
       "      <td>1664</td>\n",
       "    </tr>\n",
       "    <tr>\n",
       "      <th>iPad</th>\n",
       "      <td>1649</td>\n",
       "    </tr>\n",
       "    <tr>\n",
       "      <th>RT</th>\n",
       "      <td>1577</td>\n",
       "    </tr>\n",
       "  </tbody>\n",
       "</table>\n",
       "</div>"
      ],
      "text/plain": [
       "             0\n",
       "@mention  3547\n",
       "the       2632\n",
       "#SXSW     2256\n",
       "{link}    2185\n",
       "#sxsw     2154\n",
       "to        2030\n",
       "at        1722\n",
       "for       1664\n",
       "iPad      1649\n",
       "RT        1577"
      ]
     },
     "execution_count": 14,
     "metadata": {},
     "output_type": "execute_result"
    }
   ],
   "source": [
    "# Freq df for top words in un-processed tweets\n",
    "\n",
    "freq_df = pd.DataFrame(df.tweet_text.str.split(expand=True).stack().value_counts())\n",
    "\n",
    "freq_df.head(10)"
   ]
  },
  {
   "cell_type": "markdown",
   "metadata": {},
   "source": [
    "## Data Cleaning & Pre-Processing\n",
    "\n",
    "After exploring the data, we are left with some key observations going into the data cleaning and pre-processing steps:\n",
    "\n",
    "1. There are significant amount of non-ASCII, punctuation and noisy characters in the tweets that need to be removed\n",
    "1. We need to control for common stopwords and Twitter terms that add little value to our model. For example, many tweets simply include \"@mention\" and do not actually include the username.\n",
    "1. We need to add additional columns to inform our model about the prevalance of retweets and exclamation/question  marks in the data before removing them in data cleaning. Capital letters and exclamation/question marks both can indicate sentiment.\n"
   ]
  },
  {
   "cell_type": "code",
   "execution_count": 15,
   "metadata": {},
   "outputs": [
    {
     "data": {
      "text/plain": [
       "No emotion toward brand or product    2710\n",
       "Positive emotion                      2061\n",
       "Negative emotion                       411\n",
       "Name: is_there_an_emotion_directed_at_a_brand_or_product, dtype: int64"
      ]
     },
     "execution_count": 15,
     "metadata": {},
     "output_type": "execute_result"
    }
   ],
   "source": [
    "# Removing \"I can't tell\" from target column as it doesn't convey useful information for model \n",
    "\n",
    "df = df[df['is_there_an_emotion_directed_at_a_brand_or_product'] != \"I can't tell\"]\n",
    "\n",
    "df['is_there_an_emotion_directed_at_a_brand_or_product'].value_counts()"
   ]
  },
  {
   "cell_type": "code",
   "execution_count": 16,
   "metadata": {
    "scrolled": false
   },
   "outputs": [
    {
     "data": {
      "text/plain": [
       "1    2710\n",
       "0    2472\n",
       "Name: target, dtype: int64"
      ]
     },
     "execution_count": 16,
     "metadata": {},
     "output_type": "execute_result"
    }
   ],
   "source": [
    "# Renaming target column\n",
    "\n",
    "df['target'] = df['is_there_an_emotion_directed_at_a_brand_or_product']\n",
    "\n",
    "# Reassiging target values \n",
    "\n",
    "df['target'] = df['target'].replace('No emotion toward brand or product',1)\n",
    "df['target'] = df['target'].replace('Positive emotion', 0)\n",
    "df['target'] = df['target'].replace('Negative emotion',0)\n",
    "df['target'].value_counts()"
   ]
  },
  {
   "cell_type": "code",
   "execution_count": 17,
   "metadata": {},
   "outputs": [],
   "source": [
    "# Dropping duplicative columns\n",
    "\n",
    "df = df.drop(columns=['emotion_in_tweet_is_directed_at',\\\n",
    "                      'is_there_an_emotion_directed_at_a_brand_or_product'])"
   ]
  },
  {
   "cell_type": "code",
   "execution_count": 18,
   "metadata": {},
   "outputs": [],
   "source": [
    "# Finding the percentage of capital letters before standardizing case, to capture potential emotion captured\n",
    "# by use of capital letters in tweets \n",
    "\n",
    "def capital_letter_ratio(tweet):\n",
    "    #Initilizes count variable\n",
    "    capital_count = 0\n",
    "    #Checks each character in the tweet\n",
    "    for c in tweet:\n",
    "        #Increments count if capital letter is present\n",
    "        if c.isupper():\n",
    "            capital_count += 1\n",
    "    return capital_count / len(tweet)\n",
    "\n",
    "\n",
    "#Adds capital letter ratio column to the tweets\n",
    "df['capital_letter_ratio'] = df['tweet_text'].astype(str).apply(capital_letter_ratio)"
   ]
  },
  {
   "cell_type": "code",
   "execution_count": 19,
   "metadata": {},
   "outputs": [
    {
     "data": {
      "text/html": [
       "<div>\n",
       "<style scoped>\n",
       "    .dataframe tbody tr th:only-of-type {\n",
       "        vertical-align: middle;\n",
       "    }\n",
       "\n",
       "    .dataframe tbody tr th {\n",
       "        vertical-align: top;\n",
       "    }\n",
       "\n",
       "    .dataframe thead th {\n",
       "        text-align: right;\n",
       "    }\n",
       "</style>\n",
       "<table border=\"1\" class=\"dataframe\">\n",
       "  <thead>\n",
       "    <tr style=\"text-align: right;\">\n",
       "      <th></th>\n",
       "      <th>index</th>\n",
       "      <th>tweet_text</th>\n",
       "      <th>Apple</th>\n",
       "      <th>Google</th>\n",
       "      <th>brand</th>\n",
       "      <th>target</th>\n",
       "      <th>capital_letter_ratio</th>\n",
       "      <th>is_retweet</th>\n",
       "    </tr>\n",
       "  </thead>\n",
       "  <tbody>\n",
       "    <tr>\n",
       "      <th>5</th>\n",
       "      <td>8</td>\n",
       "      <td>Beautifully smart and simple idea RT @madebyma...</td>\n",
       "      <td>1.0</td>\n",
       "      <td>NaN</td>\n",
       "      <td>Apple</td>\n",
       "      <td>0</td>\n",
       "      <td>0.054264</td>\n",
       "      <td>True</td>\n",
       "    </tr>\n",
       "    <tr>\n",
       "      <th>11</th>\n",
       "      <td>18</td>\n",
       "      <td>Just added my #SXSW flights to @planely. Match...</td>\n",
       "      <td>1.0</td>\n",
       "      <td>NaN</td>\n",
       "      <td>Apple</td>\n",
       "      <td>0</td>\n",
       "      <td>0.087302</td>\n",
       "      <td>True</td>\n",
       "    </tr>\n",
       "    <tr>\n",
       "      <th>12</th>\n",
       "      <td>19</td>\n",
       "      <td>Must have #SXSW app! RT @malbonster: Lovely re...</td>\n",
       "      <td>1.0</td>\n",
       "      <td>NaN</td>\n",
       "      <td>Apple</td>\n",
       "      <td>0</td>\n",
       "      <td>0.161017</td>\n",
       "      <td>True</td>\n",
       "    </tr>\n",
       "    <tr>\n",
       "      <th>16</th>\n",
       "      <td>25</td>\n",
       "      <td>RT @LaurieShook: I'm looking forward to the #S...</td>\n",
       "      <td>1.0</td>\n",
       "      <td>NaN</td>\n",
       "      <td>Apple</td>\n",
       "      <td>0</td>\n",
       "      <td>0.129032</td>\n",
       "      <td>True</td>\n",
       "    </tr>\n",
       "    <tr>\n",
       "      <th>17</th>\n",
       "      <td>26</td>\n",
       "      <td>RT haha, awesomely rad iPad app by @madebymany...</td>\n",
       "      <td>1.0</td>\n",
       "      <td>NaN</td>\n",
       "      <td>Apple</td>\n",
       "      <td>0</td>\n",
       "      <td>0.046729</td>\n",
       "      <td>True</td>\n",
       "    </tr>\n",
       "  </tbody>\n",
       "</table>\n",
       "</div>"
      ],
      "text/plain": [
       "    index                                         tweet_text  Apple  Google  \\\n",
       "5       8  Beautifully smart and simple idea RT @madebyma...    1.0     NaN   \n",
       "11     18  Just added my #SXSW flights to @planely. Match...    1.0     NaN   \n",
       "12     19  Must have #SXSW app! RT @malbonster: Lovely re...    1.0     NaN   \n",
       "16     25  RT @LaurieShook: I'm looking forward to the #S...    1.0     NaN   \n",
       "17     26  RT haha, awesomely rad iPad app by @madebymany...    1.0     NaN   \n",
       "\n",
       "    brand  target  capital_letter_ratio  is_retweet  \n",
       "5   Apple       0              0.054264        True  \n",
       "11  Apple       0              0.087302        True  \n",
       "12  Apple       0              0.161017        True  \n",
       "16  Apple       0              0.129032        True  \n",
       "17  Apple       0              0.046729        True  "
      ]
     },
     "execution_count": 19,
     "metadata": {},
     "output_type": "execute_result"
    }
   ],
   "source": [
    "# Adding a column to indicate whether or not the tweet is a RT\n",
    "\n",
    "df['is_retweet'] = df['tweet_text'].str.contains(\"RT\", case=False) == True \n",
    "df[df['is_retweet']==True].head()"
   ]
  },
  {
   "cell_type": "code",
   "execution_count": 20,
   "metadata": {},
   "outputs": [],
   "source": [
    "# Defining a function to count punctuation ! ? which may convey sentiment \n",
    "\n",
    "def punctuation_ct(text):\n",
    "    # Limiting to just excl and quest. marks \n",
    "    punctuation = '!?'\n",
    "    \n",
    "    #Initilizes count variable\n",
    "    count = 0\n",
    "    \n",
    "    #Looks for any punctuation in the string and increments count accordingly\n",
    "    for p in punctuation:\n",
    "        count += text.count(p)\n",
    "    return count\n",
    "\n",
    "#Adds !? count column to the tweets\n",
    "df['punctuation_ct'] = df['tweet_text'].apply(punctuation_ct)"
   ]
  },
  {
   "cell_type": "code",
   "execution_count": 21,
   "metadata": {
    "scrolled": true
   },
   "outputs": [
    {
     "data": {
      "text/html": [
       "<div>\n",
       "<style scoped>\n",
       "    .dataframe tbody tr th:only-of-type {\n",
       "        vertical-align: middle;\n",
       "    }\n",
       "\n",
       "    .dataframe tbody tr th {\n",
       "        vertical-align: top;\n",
       "    }\n",
       "\n",
       "    .dataframe thead th {\n",
       "        text-align: right;\n",
       "    }\n",
       "</style>\n",
       "<table border=\"1\" class=\"dataframe\">\n",
       "  <thead>\n",
       "    <tr style=\"text-align: right;\">\n",
       "      <th></th>\n",
       "      <th>index</th>\n",
       "      <th>tweet_text</th>\n",
       "      <th>Apple</th>\n",
       "      <th>Google</th>\n",
       "      <th>brand</th>\n",
       "      <th>target</th>\n",
       "      <th>capital_letter_ratio</th>\n",
       "      <th>is_retweet</th>\n",
       "      <th>punctuation_ct</th>\n",
       "    </tr>\n",
       "  </thead>\n",
       "  <tbody>\n",
       "    <tr>\n",
       "      <th>0</th>\n",
       "      <td>0</td>\n",
       "      <td>.@wesley83 I have a 3G iPhone. After 3 hrs twe...</td>\n",
       "      <td>1.0</td>\n",
       "      <td>NaN</td>\n",
       "      <td>Apple</td>\n",
       "      <td>0</td>\n",
       "      <td>0.118110</td>\n",
       "      <td>False</td>\n",
       "      <td>1</td>\n",
       "    </tr>\n",
       "    <tr>\n",
       "      <th>1</th>\n",
       "      <td>1</td>\n",
       "      <td>@jessedee Know about @fludapp ? Awesome iPad/i...</td>\n",
       "      <td>1.0</td>\n",
       "      <td>NaN</td>\n",
       "      <td>Apple</td>\n",
       "      <td>0</td>\n",
       "      <td>0.071942</td>\n",
       "      <td>False</td>\n",
       "      <td>1</td>\n",
       "    </tr>\n",
       "    <tr>\n",
       "      <th>2</th>\n",
       "      <td>2</td>\n",
       "      <td>@swonderlin Can not wait for #iPad 2 also. The...</td>\n",
       "      <td>1.0</td>\n",
       "      <td>NaN</td>\n",
       "      <td>Apple</td>\n",
       "      <td>0</td>\n",
       "      <td>0.088608</td>\n",
       "      <td>False</td>\n",
       "      <td>0</td>\n",
       "    </tr>\n",
       "    <tr>\n",
       "      <th>3</th>\n",
       "      <td>3</td>\n",
       "      <td>@sxsw I hope this year's festival isn't as cra...</td>\n",
       "      <td>1.0</td>\n",
       "      <td>NaN</td>\n",
       "      <td>Apple</td>\n",
       "      <td>0</td>\n",
       "      <td>0.024390</td>\n",
       "      <td>False</td>\n",
       "      <td>0</td>\n",
       "    </tr>\n",
       "    <tr>\n",
       "      <th>4</th>\n",
       "      <td>5</td>\n",
       "      <td>@teachntech00 New iPad Apps For #SpeechTherapy...</td>\n",
       "      <td>1.0</td>\n",
       "      <td>NaN</td>\n",
       "      <td>Apple</td>\n",
       "      <td>1</td>\n",
       "      <td>0.128571</td>\n",
       "      <td>False</td>\n",
       "      <td>0</td>\n",
       "    </tr>\n",
       "  </tbody>\n",
       "</table>\n",
       "</div>"
      ],
      "text/plain": [
       "   index                                         tweet_text  Apple  Google  \\\n",
       "0      0  .@wesley83 I have a 3G iPhone. After 3 hrs twe...    1.0     NaN   \n",
       "1      1  @jessedee Know about @fludapp ? Awesome iPad/i...    1.0     NaN   \n",
       "2      2  @swonderlin Can not wait for #iPad 2 also. The...    1.0     NaN   \n",
       "3      3  @sxsw I hope this year's festival isn't as cra...    1.0     NaN   \n",
       "4      5  @teachntech00 New iPad Apps For #SpeechTherapy...    1.0     NaN   \n",
       "\n",
       "   brand  target  capital_letter_ratio  is_retweet  punctuation_ct  \n",
       "0  Apple       0              0.118110       False               1  \n",
       "1  Apple       0              0.071942       False               1  \n",
       "2  Apple       0              0.088608       False               0  \n",
       "3  Apple       0              0.024390       False               0  \n",
       "4  Apple       1              0.128571       False               0  "
      ]
     },
     "execution_count": 21,
     "metadata": {},
     "output_type": "execute_result"
    }
   ],
   "source": [
    "df.head()"
   ]
  },
  {
   "cell_type": "code",
   "execution_count": 22,
   "metadata": {},
   "outputs": [],
   "source": [
    "# Bringing in stopwords\n",
    "\n",
    "sw = stopwords.words('english')\n",
    "\n",
    "sw.extend(['http','amp','sxsw', 'sxswi', 'rt', 'quot', 'link', 'cc','mention','via'])"
   ]
  },
  {
   "cell_type": "code",
   "execution_count": 23,
   "metadata": {},
   "outputs": [],
   "source": [
    "# String containing unwanted punctuation \n",
    "\n",
    "punctuation = '\"#$%&\\'()*+,-./:;<=>@[\\\\]^_`{|}~'"
   ]
  },
  {
   "cell_type": "code",
   "execution_count": 24,
   "metadata": {},
   "outputs": [],
   "source": [
    "# Function to remove non-ASCII characters\n",
    "\n",
    "def remove_non_ascii(text):\n",
    "    return ''.join([i if ord(i) < 128 else ' ' for i in text])"
   ]
  },
  {
   "cell_type": "code",
   "execution_count": 25,
   "metadata": {},
   "outputs": [],
   "source": [
    "# Function to translate pos tags \n",
    "\n",
    "def get_wordnet_pos(treebank_tag):\n",
    "    '''\n",
    "    Translate nltk POS to wordnet tags\n",
    "    '''\n",
    "    if treebank_tag.startswith('J'):\n",
    "        return wordnet.ADJ\n",
    "    elif treebank_tag.startswith('V'):\n",
    "        return wordnet.VERB\n",
    "    elif treebank_tag.startswith('N'):\n",
    "        return wordnet.NOUN\n",
    "    elif treebank_tag.startswith('R'):\n",
    "        return wordnet.ADV\n",
    "    else:\n",
    "        return wordnet.NOUN"
   ]
  },
  {
   "cell_type": "code",
   "execution_count": 26,
   "metadata": {},
   "outputs": [],
   "source": [
    "# Defining function to caputre all of the pre-processing steps for tweet_text\n",
    "\n",
    "\n",
    "def doc_preparer(doc):\n",
    "    '''\n",
    "    \n",
    "    :param doc: a document string \n",
    "    :return: a document string with words which have been \n",
    "            lemmatized, \n",
    "            parsed for stopwords,\n",
    "            removes mentions,\n",
    "            made lowercase,\n",
    "            and stripped of punctuation and numbers.\n",
    "    '''\n",
    "\n",
    "    # Remove links \n",
    "    doc = re.sub(r'http\\S+', '', doc)\n",
    "    doc = re.sub(r'www\\.[a-z]?\\.?(com)+|[a-z]+\\.(com)', '', doc)\n",
    "    \n",
    "    # Remove non-ASCII characters \n",
    "    doc = remove_non_ascii(doc)\n",
    "    \n",
    "    # Instantiate tokenizer\n",
    "    regex_token = RegexpTokenizer(r\"([a-zA-Z]+(?:’[a-z]+)?)\")\n",
    "    doc = regex_token.tokenize(doc)\n",
    "    \n",
    "    # Lowercase \n",
    "    doc = [word.lower() for word in doc]\n",
    "   \n",
    "    # Remove stopwords\n",
    "    doc = [word for word in doc if word not in sw]\n",
    "    \n",
    "    # Remove words that begin with @ \n",
    "    doc = [word.replace('@[^\\s]*',\"\") for word in doc]\n",
    "    \n",
    "    # Remove unwanted punctuation\n",
    "    doc = [word for word in doc if word not in punctuation]\n",
    "    \n",
    "    # Remove numerals \n",
    "    doc = [word.replace('\\d+', '') for word in doc]\n",
    "   \n",
    "    # Apply pos tag for lemmatizing \n",
    "    doc = pos_tag(doc)\n",
    "    doc = [(word[0], get_wordnet_pos(word[1])) for word in doc]\n",
    "    \n",
    "    # Lemmatization\n",
    "    lemmatizer = WordNetLemmatizer() \n",
    "    doc = [lemmatizer.lemmatize(word[0], word[1]) for word in doc]\n",
    "    return ' '.join(doc)"
   ]
  },
  {
   "cell_type": "code",
   "execution_count": 27,
   "metadata": {},
   "outputs": [],
   "source": [
    "# Creating new column 'clean_tweet' for word frequency analysis\n",
    "\n",
    "df['clean_tweet'] = df['tweet_text'].apply(doc_preparer)"
   ]
  },
  {
   "cell_type": "code",
   "execution_count": 28,
   "metadata": {},
   "outputs": [
    {
     "data": {
      "image/png": "[encoded data removed]",
      "text/plain": [
       "<Figure size 864x864 with 1 Axes>"
      ]
     },
     "metadata": {
      "needs_background": "light"
     },
     "output_type": "display_data"
    }
   ],
   "source": [
    "# Freq df & visualization of cleaned words from tweets\n",
    "\n",
    "freq_df = pd.DataFrame(df.clean_tweet.str.split(expand=True).stack().value_counts())\n",
    "\n",
    "x = freq_df.head(40).index\n",
    "y = freq_df[0].head(40)\n",
    "\n",
    "plt.figure(figsize=(12,12))\n",
    "plt.xticks(rotation = 45)\n",
    "\n",
    "plt.bar(x,y)\n",
    "plt.show()"
   ]
  },
  {
   "cell_type": "code",
   "execution_count": 29,
   "metadata": {},
   "outputs": [
    {
     "data": {
      "image/png": "[encoded data removed]",
      "text/plain": [
       "<Figure size 880x880 with 1 Axes>"
      ]
     },
     "metadata": {
      "needs_background": "light"
     },
     "output_type": "display_data"
    }
   ],
   "source": [
    "### colormap\n",
    "import matplotlib as mpl\n",
    "from PIL import Image\n",
    "\n",
    "# open the image and use np.array to transform the file to an array\n",
    "cand_mask=np.array(Image.open('./apple_logo.jpeg'))\n",
    "\n",
    "# this line will take all values greater than 3 and make them 255 (white)\n",
    "# if they are less than 3, they will be whatever value they are in the array\n",
    "cand_mask=np.where(cand_mask > 3, 255, cand_mask)\n",
    "\n",
    "# import the desired colormap from matplotlib\n",
    "cmap = mpl.cm.Greys(np.linspace(0,1,20)) \n",
    "# the darker part of the matrix is selected for readability\n",
    "cmap = mpl.colors.ListedColormap(cmap[-10:,:-1]) \n",
    "\n",
    "\n",
    "#create and generate our wordcloud object\n",
    "wordcloud = WordCloud(background_color='white',\n",
    "                      contour_color='white',\n",
    "                      mask=cand_mask, \n",
    "                      colormap='gist_heat',\n",
    "                      contour_width=12).generate_from_frequencies(freq_df[0])\n",
    "\n",
    "\n",
    "#plot\n",
    "fig, ax = plt.subplots(figsize=(11,11),dpi=80)\n",
    "plt.imshow(wordcloud, interpolation='bilinear')\n",
    "plt.axis('off')\n",
    "plt.show()"
   ]
  },
  {
   "cell_type": "code",
   "execution_count": 30,
   "metadata": {},
   "outputs": [
    {
     "data": {
      "text/plain": [
       "0    1592\n",
       "1     613\n",
       "2     187\n",
       "3      44\n",
       "4      25\n",
       "5       5\n",
       "8       2\n",
       "6       2\n",
       "9       1\n",
       "7       1\n",
       "Name: punctuation_ct, dtype: int64"
      ]
     },
     "execution_count": 30,
     "metadata": {},
     "output_type": "execute_result"
    }
   ],
   "source": [
    "# Stats regarding relevance of punctuation in neutral and non-neutral tweets \n",
    "\n",
    "df[df['target']==0]['punctuation_ct'].value_counts()\n",
    "\n",
    "# 1592 non - 65%\n",
    "# 613 have either one ! or one ? - 25%\n",
    "# The remaining 267 have more than 1 - 11%"
   ]
  },
  {
   "cell_type": "code",
   "execution_count": 31,
   "metadata": {},
   "outputs": [
    {
     "data": {
      "text/plain": [
       "0    1896\n",
       "1     602\n",
       "2     150\n",
       "3      42\n",
       "4      18\n",
       "5       1\n",
       "6       1\n",
       "Name: punctuation_ct, dtype: int64"
      ]
     },
     "execution_count": 31,
     "metadata": {},
     "output_type": "execute_result"
    }
   ],
   "source": [
    "df[df['target']==1]['punctuation_ct'].value_counts()\n",
    "\n",
    "# 1896 non - 70%\n",
    "# 602 have either one ! or one ? - 22%\n",
    "# The remaining 212 have more than 1 - 8% "
   ]
  },
  {
   "cell_type": "markdown",
   "metadata": {},
   "source": [
    "**Observation:**\n",
    "- There are some slight differences in the amount of punctuation between neutral and non-neutral tweets. While the difference is small, we believe including this feature will help to better inform our model"
   ]
  },
  {
   "cell_type": "code",
   "execution_count": 32,
   "metadata": {},
   "outputs": [
    {
     "data": {
      "text/plain": [
       "count    2710.000000\n",
       "mean        0.082391\n",
       "std         0.052186\n",
       "min         0.000000\n",
       "25%         0.045455\n",
       "50%         0.074074\n",
       "75%         0.107805\n",
       "max         0.467742\n",
       "Name: capital_letter_ratio, dtype: float64"
      ]
     },
     "execution_count": 32,
     "metadata": {},
     "output_type": "execute_result"
    }
   ],
   "source": [
    "# Understanding the difference in capital letter ration between neutral and non-neutral tweets \n",
    "\n",
    "df[df['target']==1]['capital_letter_ratio'].describe()\n",
    "\n"
   ]
  },
  {
   "cell_type": "code",
   "execution_count": 33,
   "metadata": {},
   "outputs": [
    {
     "data": {
      "text/plain": [
       "count    2472.000000\n",
       "mean        0.075211\n",
       "std         0.046944\n",
       "min         0.000000\n",
       "25%         0.040404\n",
       "50%         0.068560\n",
       "75%         0.098901\n",
       "max         0.372340\n",
       "Name: capital_letter_ratio, dtype: float64"
      ]
     },
     "execution_count": 33,
     "metadata": {},
     "output_type": "execute_result"
    }
   ],
   "source": [
    "df[df['target']==0]['capital_letter_ratio'].describe()\n",
    "\n",
    "\n"
   ]
  },
  {
   "cell_type": "markdown",
   "metadata": {},
   "source": [
    "**Observation:**\n",
    "- Again, while the difference is small, we see slightly less capital letter ratios on average in neutral tweets when compared to non-neutral tweets"
   ]
  },
  {
   "cell_type": "markdown",
   "metadata": {},
   "source": [
    "## Modeling\n",
    "__________________________________________________________________________________________________________________\n",
    "To begin, we are going to set our baseline model by using a Decision Tree and then incorporate the full features of the dataset using a Multinomial Naive Bayes model. In order to optimize the hyperparameters for these models and vectorizers, we are implementing GridSearch CV as we iterate on the models."
   ]
  },
  {
   "cell_type": "markdown",
   "metadata": {},
   "source": [
    "### First Model - Decision Tree "
   ]
  },
  {
   "cell_type": "code",
   "execution_count": 34,
   "metadata": {},
   "outputs": [],
   "source": [
    "# Train-test split\n",
    "\n",
    "X = df.tweet_text\n",
    "y = df.target \n",
    "\n",
    "X_t, X_te, y_t, y_te = train_test_split(X,\n",
    "                                        y,\n",
    "                                        random_state=42,\n",
    "                                        test_size=0.25)"
   ]
  },
  {
   "cell_type": "code",
   "execution_count": 35,
   "metadata": {
    "scrolled": true
   },
   "outputs": [
    {
     "name": "stdout",
     "output_type": "stream",
     "text": [
      "Training Score: 0.5918682449819866\n",
      "Validation Score:0.5470910131578511\n"
     ]
    }
   ],
   "source": [
    "# Pipeline for baseline model\n",
    "baseline_model = Pipeline(steps=[\n",
    "    ('preproc', TfidfVectorizer(encoding = 'unicode_escape', lowercase = False, tokenizer = doc_preparer)),\n",
    "    ('clf', DecisionTreeClassifier(random_state = 42, max_depth = 5))\n",
    "])\n",
    "\n",
    "\n",
    "# Evaluation for baseline model \n",
    "baseline_model.fit(X_t, y_t)\n",
    "print(\"Training Score:\", baseline_model.score(X_t, y_t))\n",
    "scores = np.mean(cross_val_score(baseline_model, X_t, y_t, cv=5))\n",
    "print(\"Validation Score:\" + str(scores))"
   ]
  },
  {
   "cell_type": "code",
   "execution_count": 36,
   "metadata": {},
   "outputs": [
    {
     "data": {
      "image/png": "[encoded data removed]",
      "text/plain": [
       "<Figure size 432x288 with 2 Axes>"
      ]
     },
     "metadata": {
      "needs_background": "light"
     },
     "output_type": "display_data"
    }
   ],
   "source": [
    "# Plot confusion matrix \n",
    "\n",
    "plot_confusion_matrix(baseline_model, X_te, y_te);"
   ]
  },
  {
   "cell_type": "code",
   "execution_count": 37,
   "metadata": {
    "scrolled": true
   },
   "outputs": [
    {
     "name": "stdout",
     "output_type": "stream",
     "text": [
      "Accuracy Score: 0.5748456790123457\n",
      "Precision Score: 0.5760992108229989\n",
      "Recall Score: 0.7448979591836735\n",
      "F1 Score: 0.6497139224411951\n"
     ]
    }
   ],
   "source": [
    "y_te_pred = baseline_model.predict(X_te)\n",
    "\n",
    "print(f\"Accuracy Score: {accuracy_score(y_te,y_te_pred)}\")\n",
    "print(f\"Precision Score: {precision_score(y_te,y_te_pred)}\")\n",
    "print(f\"Recall Score: {recall_score(y_te,y_te_pred)}\")\n",
    "print(f\"F1 Score: {f1_score(y_te,y_te_pred)}\")"
   ]
  },
  {
   "cell_type": "markdown",
   "metadata": {},
   "source": [
    "### Second Model - Multinomial Naive Bayes"
   ]
  },
  {
   "cell_type": "code",
   "execution_count": 38,
   "metadata": {},
   "outputs": [],
   "source": [
    "# Train-test split\n",
    "\n",
    "X = df.drop(columns=['target','clean_tweet','Apple','Google'])\n",
    "y = df.target \n",
    "\n",
    "X_t, X_te, y_t, y_te = train_test_split(X,\n",
    "                                        y,\n",
    "                                        random_state=42,\n",
    "                                        test_size=0.25)"
   ]
  },
  {
   "cell_type": "code",
   "execution_count": 39,
   "metadata": {},
   "outputs": [
    {
     "name": "stdout",
     "output_type": "stream",
     "text": [
      "Training Score: 0.5262480699948533\n",
      "Validation Score:0.5218763750897427\n"
     ]
    }
   ],
   "source": [
    "#Vectorizer CT\n",
    "tfidf_vec = ColumnTransformer([\n",
    "    ('tfidf', TfidfVectorizer(encoding = 'unicode_escape', lowercase = False, tokenizer = doc_preparer), \\\n",
    "     'tweet_text'),\n",
    "    ('ohe', OneHotEncoder(), ['brand'])]) \n",
    "\n",
    "\n",
    "# Pipeline for mnb1 model\n",
    "mnb1 = Pipeline(steps=[\n",
    "    ('preproc', tfidf_vec),\n",
    "    ('mnb', MultinomialNB())\n",
    "])\n",
    "\n",
    "\n",
    "# Evaluation for mnb1 model \n",
    "mnb1.fit(X_t,y_t)\n",
    "\n",
    "print(\"Training Score:\", mnb1.score(X_t, y_t))\n",
    "scores = np.mean(cross_val_score(mnb1, X_t, y_t, cv=5))\n",
    "print(\"Validation Score:\" + str(scores))"
   ]
  },
  {
   "cell_type": "code",
   "execution_count": 40,
   "metadata": {},
   "outputs": [
    {
     "data": {
      "image/png": "[encoded data removed]",
      "text/plain": [
       "<Figure size 432x288 with 2 Axes>"
      ]
     },
     "metadata": {
      "needs_background": "light"
     },
     "output_type": "display_data"
    }
   ],
   "source": [
    "# Plot confusion matrix \n",
    "\n",
    "plot_confusion_matrix(mnb1, X_te, y_te);"
   ]
  },
  {
   "cell_type": "code",
   "execution_count": 41,
   "metadata": {},
   "outputs": [
    {
     "name": "stdout",
     "output_type": "stream",
     "text": [
      "Accuracy Score: 0.5316358024691358\n",
      "Precision Score: 0.5313741064336776\n",
      "Recall Score: 0.9752186588921283\n",
      "F1 Score: 0.6879177377892031\n"
     ]
    }
   ],
   "source": [
    "y_te_pred = mnb1.predict(X_te)\n",
    "\n",
    "print(f\"Accuracy Score: {accuracy_score(y_te,y_te_pred)}\")\n",
    "print(f\"Precision Score: {precision_score(y_te,y_te_pred)}\")\n",
    "print(f\"Recall Score: {recall_score(y_te,y_te_pred)}\")\n",
    "print(f\"F1 Score: {f1_score(y_te,y_te_pred)}\")"
   ]
  },
  {
   "cell_type": "code",
   "execution_count": 42,
   "metadata": {},
   "outputs": [],
   "source": [
    "# # Grid search for optimal hyperparameters \n",
    "# # Setting up parameters for grid search to improve mnb1 model\n",
    "\n",
    "# params = {\n",
    "#     'preproc__tfidf__max_features': [1000, 4000, 8000, None],\n",
    "#     'preproc__tfidf__max_df': [.75, .85, .95],\n",
    "#     'preproc__tfidf__lowercase': [False, True],\n",
    "#     'preproc__tfidf__ngram_range': [(1,1), (1,2), (2,2)]\n",
    "# }\n",
    "\n",
    "# #Fits gridsearch on model and prints out the best parameters\n",
    "# grid = GridSearchCV(mnb1, param_grid = params, scoring = 'recall', cv = 5)\n",
    "# grid.fit(X_t, y_t)\n",
    "# grid.best_params_"
   ]
  },
  {
   "cell_type": "markdown",
   "metadata": {},
   "source": [
    "GridSearch best params:\n",
    "\n",
    "{'preproc__tfidf__lowercase': True,\n",
    " 'preproc__tfidf__max_df': 0.95,\n",
    " 'preproc__tfidf__max_features': 1000,\n",
    " 'preproc__tfidf__ngram_range': (2, 2)}"
   ]
  },
  {
   "cell_type": "code",
   "execution_count": 43,
   "metadata": {},
   "outputs": [],
   "source": [
    "# params = {\n",
    "#     'mnb__alpha': [1, 0.1, 0.01, 0.001, 0.0001, 0.00001],\n",
    "#     'mnb__fit_prior': [True, False]\n",
    "# }\n",
    "\n",
    "# #Fits gridsearch on model and prints out the best parameters\n",
    "# grid = GridSearchCV(mnb1, param_grid = params, scoring = 'f1', cv = 5)\n",
    "# grid.fit(X_t, y_t)\n",
    "# grid.best_params_"
   ]
  },
  {
   "cell_type": "markdown",
   "metadata": {},
   "source": [
    "GridSearch results:\n",
    "    {'mnb__alpha': 1, 'mnb__fit_prior': True}"
   ]
  },
  {
   "cell_type": "markdown",
   "metadata": {},
   "source": [
    "### Third Model: Multinmoial Naive Bayes w/ GridSearch"
   ]
  },
  {
   "cell_type": "code",
   "execution_count": 44,
   "metadata": {
    "scrolled": true
   },
   "outputs": [
    {
     "name": "stdout",
     "output_type": "stream",
     "text": [
      "Training Score: 0.6505404014410705\n",
      "Validation Score:0.5880097137166546\n"
     ]
    }
   ],
   "source": [
    "#Vectorizer CT\n",
    "tfidf_vec = ColumnTransformer([\n",
    "    ('tfidf', TfidfVectorizer(encoding = 'unicode_escape', lowercase = True, tokenizer = doc_preparer,\\\n",
    "                             ngram_range=(2,2),max_df=.95,max_features=1000),'tweet_text'),\n",
    "    ('ohe', OneHotEncoder(), ['brand'])]) \n",
    "\n",
    "\n",
    "# Pipeline for mnb1 model\n",
    "mnb2 = Pipeline(steps=[\n",
    "    ('preproc', tfidf_vec),\n",
    "    ('mnb', MultinomialNB())\n",
    "])\n",
    "\n",
    "\n",
    "# Evaluation for mnb1 model \n",
    "mnb2.fit(X_t,y_t)\n",
    "\n",
    "print(\"Training Score:\", mnb2.score(X_t, y_t))\n",
    "scores = np.mean(cross_val_score(mnb2, X_t, y_t, cv=5))\n",
    "print(\"Validation Score:\" + str(scores))"
   ]
  },
  {
   "cell_type": "code",
   "execution_count": 45,
   "metadata": {
    "scrolled": false
   },
   "outputs": [
    {
     "data": {
      "image/png": "[encoded data removed]",
      "text/plain": [
       "<Figure size 432x288 with 2 Axes>"
      ]
     },
     "metadata": {
      "needs_background": "light"
     },
     "output_type": "display_data"
    }
   ],
   "source": [
    "# Plot confusion matrix \n",
    "\n",
    "plot_confusion_matrix(mnb2, X_te, y_te);"
   ]
  },
  {
   "cell_type": "code",
   "execution_count": 46,
   "metadata": {},
   "outputs": [
    {
     "name": "stdout",
     "output_type": "stream",
     "text": [
      "Accuracy Score: 0.6242283950617284\n",
      "Precision Score: 0.6328437917222964\n",
      "Recall Score: 0.6909620991253644\n",
      "F1 Score: 0.6606271777003484\n"
     ]
    }
   ],
   "source": [
    "y_te_pred = mnb2.predict(X_te)\n",
    "\n",
    "print(f\"Accuracy Score: {accuracy_score(y_te,y_te_pred)}\")\n",
    "print(f\"Precision Score: {precision_score(y_te,y_te_pred)}\")\n",
    "print(f\"Recall Score: {recall_score(y_te,y_te_pred)}\")\n",
    "print(f\"F1 Score: {f1_score(y_te,y_te_pred)}\")"
   ]
  },
  {
   "cell_type": "markdown",
   "metadata": {},
   "source": [
    "### Fourth Model - DT with GridSearch"
   ]
  },
  {
   "cell_type": "code",
   "execution_count": 47,
   "metadata": {},
   "outputs": [],
   "source": [
    "# Train-test split\n",
    "\n",
    "X = df.drop(columns=['target','clean_tweet','Apple','Google'])\n",
    "y = df.target \n",
    "\n",
    "X_t, X_te, y_t, y_te = train_test_split(X,\n",
    "                                        y,\n",
    "                                        random_state=42,\n",
    "                                        test_size=0.25)"
   ]
  },
  {
   "cell_type": "code",
   "execution_count": null,
   "metadata": {
    "scrolled": true
   },
   "outputs": [],
   "source": [
    "#Vectorizer CT\n",
    "tfidf_vec = ColumnTransformer([\n",
    "    ('tfidf', TfidfVectorizer(encoding = 'unicode_escape', lowercase = False, tokenizer = doc_preparer), \\\n",
    "     'tweet_text'),\n",
    "    ('ohe', OneHotEncoder(), ['brand'])]) \n",
    "\n",
    "\n",
    "# Pipeline for mnb1 model\n",
    "dt2 = Pipeline(steps=[\n",
    "    ('preproc', tfidf_vec),\n",
    "    ('dt2', DecisionTreeClassifier(random_state = 42))\n",
    "])\n",
    "\n",
    "\n",
    "# Evaluation for mnb1 model \n",
    "dt2.fit(X_t,y_t)\n",
    "\n",
    "print(\"Training Score:\", dt2.score(X_t, y_t))\n",
    "scores = np.mean(cross_val_score(dt2, X_t, y_t, cv=5))\n",
    "print(\"Validation Score:\" + str(scores))"
   ]
  },
  {
   "cell_type": "code",
   "execution_count": null,
   "metadata": {
    "scrolled": false
   },
   "outputs": [],
   "source": [
    "# # Setting up parameters for grid search to improve DT model\n",
    "\n",
    "# param_dict = {\n",
    "#     'dt2__criterion': ['gini','entropy'],\n",
    "#     'dt2__max_depth': [2,5,10,20],\n",
    "#     'dt2__min_samples_split': [2,5,10],\n",
    "#     'dt2__min_samples_leaf': [2,5,10]\n",
    "# }\n",
    "\n",
    "# # Grid search for decision tree model \n",
    "\n",
    "# #Fits gridsearch on model and prints out the best parameters\n",
    "# grid = GridSearchCV(dt2, param_grid = param_dict, scoring = 'f1', cv = 5)\n",
    "# grid.fit(X_t, y_t)\n",
    "# grid.best_params_\n"
   ]
  },
  {
   "cell_type": "markdown",
   "metadata": {},
   "source": [
    "GridSearch results:\n",
    "'dt2__criterion': 'gini',\n",
    " 'dt2__max_depth': 5,\n",
    " 'dt2__min_samples_leaf': 5,\n",
    " 'dt2__min_samples_split': 2"
   ]
  },
  {
   "cell_type": "code",
   "execution_count": null,
   "metadata": {},
   "outputs": [],
   "source": [
    "#Vectorizer CT\n",
    "tfidf_vec = ColumnTransformer([\n",
    "    ('tfidf', TfidfVectorizer(encoding = 'unicode_escape', lowercase = True, tokenizer = doc_preparer,\\\n",
    "                             ngram_range=(2,2),max_df=.95,max_features=1000),'tweet_text'),\n",
    "    ('ohe', OneHotEncoder(), ['brand'])]) \n",
    "\n",
    "\n",
    "# Pipeline for dt3 model\n",
    "dt3 = Pipeline(steps=[\n",
    "    ('preproc', tfidf_vec),\n",
    "    ('dt3', DecisionTreeClassifier(max_depth=5,min_samples_leaf=5,min_samples_split=2,random_state = 42))\n",
    "])\n",
    "\n",
    "\n",
    "# Evaluation for mnb1 model \n",
    "dt3.fit(X_t,y_t)\n",
    "\n",
    "print(\"Training Score:\", dt3.score(X_t, y_t))\n",
    "scores = np.mean(cross_val_score(dt3, X_t, y_t, cv=5))\n",
    "print(\"Validation Score:\" + str(scores))"
   ]
  },
  {
   "cell_type": "code",
   "execution_count": null,
   "metadata": {
    "scrolled": true
   },
   "outputs": [],
   "source": [
    "# Plot confusion matrix \n",
    "\n",
    "plot_confusion_matrix(dt3, X_te, y_te);"
   ]
  },
  {
   "cell_type": "code",
   "execution_count": null,
   "metadata": {
    "scrolled": true
   },
   "outputs": [],
   "source": [
    "y_te_pred = dt3.predict(X_te)\n",
    "\n",
    "print(f\"Accuracy Score: {accuracy_score(y_te,y_te_pred)}\")\n",
    "print(f\"Precision Score: {precision_score(y_te,y_te_pred)}\")\n",
    "print(f\"Recall Score: {recall_score(y_te,y_te_pred)}\")\n",
    "print(f\"F1 Score: {f1_score(y_te,y_te_pred)}\")"
   ]
  },
  {
   "cell_type": "markdown",
   "metadata": {},
   "source": [
    "## Evaluation\n",
    "__________________________________________________________________________________________________________________\n",
    "\n",
    "We are evaluating these models by trying to optimize our Recall and Precision scores. Optimizing for Recall ensures that Apple is reaching as much of their target users as possible, and Precision will ensure that Apple is utilizing the ad-spend as efficiently as possible. You can see full results below. Ultimately, we decided to move forward with Model 3, as it has the most balanced Recall and Precision scores out of our models. \n",
    "\n",
    "\n",
    "**Model 1 - Baseline Decision Tree** \n",
    "> - Precision Score: 0.58\n",
    "> - Recall Score: 0.75\n",
    "\n",
    "\n",
    "**Model 2 - Multinmial Naive Bayes** \n",
    "> - Precision Score: 0.53\n",
    "> - Recall Score: 0.98\n",
    "\n",
    "**Model 3 - Multinomial Naive Bayes w/ GridSearch**\n",
    "> - Precision Score: 0.63\n",
    "> - Recall Score: 0.69\n",
    "\n",
    "**Model 4 - Decision Tree w/ GridSearch**\n",
    "> - Precision Score: 0.56\n",
    "> - Recall Score: 0.89\n",
    "\n",
    "\n",
    "\n",
    "##### Model 3 Confusion Matrix \n",
    "\n",
    "<img src=\"./conmatrix.png\" style=\"width:375px;\" aligh=\"left\">\n"
   ]
  },
  {
   "cell_type": "markdown",
   "metadata": {},
   "source": [
    "## Conclusion\n",
    "__________________________________________________________________________________________________________________"
   ]
  },
  {
   "cell_type": "markdown",
   "metadata": {},
   "source": [
    "Overall, we would recommend that the Apple Social Media Advertising team uses this model as it is fairly accurate in identifying neutral-sentimate tweets, and would be a good alternative to the traditional approach of targeting ads based on search terms alone. \n",
    "\n",
    "While the model results are promising, there is still a lot of work that can be done to improve it. In our next steps, we would like to :\n",
    "\n",
    "- Do further analysis into the impact of retweets & emojis\n",
    "- Understand how sentiments differ among social media platforms that have different underlying userbases \n",
    "- Expanding the sentiment analysis to cover specific Apple products, not just the brand as a whole/\n"
   ]
  }
 ],
 "metadata": {
  "kernelspec": {
   "display_name": "Python (learn-env)",
   "language": "python",
   "name": "learn-env"
  },
  "language_info": {
   "codemirror_mode": {
    "name": "ipython",
    "version": 3
   },
   "file_extension": ".py",
   "mimetype": "text/x-python",
   "name": "python",
   "nbconvert_exporter": "python",
   "pygments_lexer": "ipython3",
   "version": "3.8.5"
  }
 },
 "nbformat": 4,
 "nbformat_minor": 4
}
